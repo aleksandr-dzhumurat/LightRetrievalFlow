{
 "cells": [
  {
   "cell_type": "markdown",
   "id": "4fb45eb3-93f2-4b26-aa9d-c58dd1e84fc1",
   "metadata": {},
   "source": [
    "# Data ingestion\n",
    "\n",
    "[ES API](https://zincsearch-docs.zinc.dev/api-es-compatible/search/search/)"
   ]
  },
  {
   "cell_type": "code",
   "execution_count": 3,
   "id": "a7bd661d-bf08-44fa-974e-a6177cf96a30",
   "metadata": {},
   "outputs": [
    {
     "data": {
      "text/plain": [
       "{'mappings': {'properties': {'category': {'aggregatable': True,\n",
       "    'index': True,\n",
       "    'sortable': True,\n",
       "    'type': 'keyword'},\n",
       "   'content': {'highlightable': True,\n",
       "    'index': True,\n",
       "    'store': True,\n",
       "    'type': 'text'},\n",
       "   'content_len': {'aggregatable': False,\n",
       "    'index': True,\n",
       "    'sortable': True,\n",
       "    'type': 'integer'},\n",
       "   'doc_id': {'highlightable': True,\n",
       "    'index': True,\n",
       "    'store': True,\n",
       "    'type': 'text'}}},\n",
       " 'name': 'index69',\n",
       " 'settings': {'analysis': {'analyzer': {'default': {'type': 'standard'}}}},\n",
       " 'shard_num': 1,\n",
       " 'storage_type': 'disk'}"
      ]
     },
     "execution_count": 3,
     "metadata": {},
     "output_type": "execute_result"
    }
   ],
   "source": [
    "import os\n",
    "import yaml\n",
    "from dotenv import load_dotenv\n",
    "\n",
    "%load_ext autoreload\n",
    "%autoreload 2\n",
    "\n",
    "conf_dir = os.environ['CONFIG_DIR']\n",
    "data_dir = os.environ['DATA_DIR']\n",
    "\n",
    "load_dotenv(os.path.join(conf_dir, '.env'))\n",
    "\n",
    "config_path = os.path.join(conf_dir,'data_config.yml')\n",
    "config = {}\n",
    "with open(config_path, \"r\") as f:\n",
    "    config = yaml.load(f, Loader=yaml.FullLoader)\n",
    "index_config = config['elastic_index_settings']\n",
    "            \n",
    "index_config['name'] = 'index69'\n",
    "index_config"
   ]
  },
  {
   "cell_type": "code",
   "execution_count": 4,
   "id": "cfa770b2-0e05-4367-af08-c7fa6a9c81b7",
   "metadata": {},
   "outputs": [
    {
     "name": "stdout",
     "output_type": "stream",
     "text": [
      "Failed to create index: 400, {\"error\":\"index [index69] already exists\"}\n"
     ]
    }
   ],
   "source": [
    "from light_retrieval_flow.data_ingestion import create_index\n",
    "\n",
    "create_index(index_config=index_config)"
   ]
  },
  {
   "cell_type": "code",
   "execution_count": 5,
   "id": "2ece9297-f41c-4d8e-b784-8404652fc77b",
   "metadata": {},
   "outputs": [
    {
     "name": "stdout",
     "output_type": "stream",
     "text": [
      "Num entries: 9654\n"
     ]
    },
    {
     "data": {
      "text/plain": [
       "{'doc_id': 'f16a3d4fa0bc',\n",
       " 'content_len': 4883,\n",
       " 'content': 'While Amazon continues to expand its self-service, computer-vision-based grocery checkout technology by bringing it to bigger stores, an AI startup out of Israel that’s built something to rival it has picked up funding and a new strategic investor as a customer.\\nTrigo, which has produced a computer vision system that includes both camera hardware and encrypted, privacy-compliant software to enable “grab and go” shopping — where customers can pick up items that get automatically detected and billed before they leave the store — has bagged $10 million in funding from German supermarket chain REWE Group and Viola Growth.\\n\\n\\n\\nThe exact amount of the investment was not being disclosed (perhaps because $10 million, in these crazy times, suddenly sounds like a modest amount?), but PitchBook notes that Trigo had up to now raised $87 million, and Trigo has confirmed that it has now raised “over $100 million,” including a Series A in 2019, and a Series B of $60 million that it raised in December of last year. The company has confirmed that the amount raised is $10 million today, and $104 million in total.\\nThe company is not disclosing its valuation. We have asked and will update as we learn more.\\n“Trigo is immensely proud and honored to be deepening its strategic partnership with REWE Group, one of Europe’s biggest and most innovative grocery retailers,” said Michael Gabay, Trigo co-founder and CEO, in a statement. “REWE have placed their trust in Trigo’s privacy-by-design architecture, and we look forward to bringing this exciting technology to German grocery shoppers. We are also looking forward to working with Viola Growth, an iconic investment firm backing some of Israel’s top startups.”\\nThe REWE investment is part of a bigger partnership between the two companies, which will begin with a new “grab and go” REWE store in Cologne. REWE has 3,700 stores across Germany, so there is a lot of scope there for expansion. REWE is Trigo’s second strategic investor: Tesco has also backed the startup and has been trialling its technology in the U.K.. Trigo’s also being used by Shufersal, a grocery chain in Israel.\\nREWE’s investment comes amid a spate of tech engagements by the grocery giant, which recently also announced a partnership with Flink, a new grocery delivery startup out of Germany that recently raised a big round of funding to expand. It’s also working with Yamo, a healthy eating startup; and Whisk, an AI powered buy-to-cook startup.\\n\\n\\n\\n\\n\\n“With today’s rapid technological developments, it is crucial to find the right partners,” said Christoph Eltze, executive board member, Digital, Customer & Analytics REWE Group. “REWE Group is investing in its strategic partnership with Trigo, who we believe is one of the leading companies in computer vision technologies for smart stores.”\\n\\n\\n\\nMore generally, consumer habits are changing, fast. Whether we are talking about the average family, or the average individual, people are simply not shopping, cooking and eating in the same way that they were even 10 years ago, let alone 20 or 30 years ago.\\nSo like many others in the very established brick-and-mortar grocery business, REWE — founded in 1927 — is hoping to tie up with some of the more interesting innovators to better keep ahead in the game.\\n“I don’t actually think people really want grocery e-commerce,” Ran Peled, Trigo’s VP of marketing, told me back in 2019. “They do that because the supermarket experience has become worse with the years. We are very much committed to helping brick-and-mortar stores return to the time of a few decades ago, when it was fun to go to the supermarket. What would happen if a store could have an entirely new OS that is based on computer vision?”\\nIt will be interesting to see how widely used and “fun” smart checkout services will become in that context, and whether it will be a winner-takes-all market, or whether we’ll see a proliferation of others emerge to provide similar tools.\\n\\n\\n\\nIn addition to Amazon and Trigo, there is also Standard Cognition, which earlier this year raised money at a $1 billion valuation, among others and other approaches. One thing that more competition could mean is also more competitive pricing for systems that otherwise could prove costly to implement and run except for in the busiest locations.\\nThere is also a bigger question over what the optimal size will be for cashierless, grab-and-go technology. Trigo cites data from Juniper Research that forecasts $400 billion in smart checkout transactions annually by 2025, but it seems that the focus in that market will likely be, in Juniper’s view, on smaller grocery and convenience stores rather than the cavernous cathedrals to consumerism that many of these chains operate. In that category, the market size is 500,000 stores globally, 120,000 of them in Europe.\\nWho’s building the grocery store of the future?\\n\\n',\n",
       " 'category': 'news'}"
      ]
     },
     "execution_count": 5,
     "metadata": {},
     "output_type": "execute_result"
    }
   ],
   "source": [
    "from light_retrieval_flow.data_ingestion import read_csv_as_dicts, load_bulk_documents\n",
    "\n",
    "csv_data_path = os.path.join(data_dir, 'pipelines_data', 'knowledgebase.csv')\n",
    "index_entries = read_csv_as_dicts(csv_data_path)\n",
    "# load_bulk_documents(index_config['name'], index_entries)\n",
    "\n",
    "index_entries[0]"
   ]
  },
  {
   "cell_type": "markdown",
   "id": "b4e72480-558f-4b3a-b995-4a203ad6542c",
   "metadata": {},
   "source": [
    "# Data retrieval"
   ]
  },
  {
   "cell_type": "code",
   "execution_count": 1,
   "id": "1f76288d-0013-4b9b-be77-ed8b221bc8ef",
   "metadata": {},
   "outputs": [
    {
     "ename": "NameError",
     "evalue": "name 'index_name' is not defined",
     "output_type": "error",
     "traceback": [
      "\u001b[0;31m---------------------------------------------------------------------------\u001b[0m",
      "\u001b[0;31mNameError\u001b[0m                                 Traceback (most recent call last)",
      "Cell \u001b[0;32mIn[1], line 3\u001b[0m\n\u001b[1;32m      1\u001b[0m \u001b[38;5;28;01mfrom\u001b[39;00m \u001b[38;5;21;01mlight_retrieval_flow\u001b[39;00m\u001b[38;5;21;01m.\u001b[39;00m\u001b[38;5;21;01mdata_ingestion\u001b[39;00m \u001b[38;5;28;01mimport\u001b[39;00m search_documents, pretty\n\u001b[0;32m----> 3\u001b[0m \u001b[38;5;28mprint\u001b[39m(\u001b[43mindex_name\u001b[49m)\n\u001b[1;32m      4\u001b[0m pretty(search_documents(index_config[\u001b[38;5;124m'\u001b[39m\u001b[38;5;124mname\u001b[39m\u001b[38;5;124m'\u001b[39m], \u001b[38;5;124m'\u001b[39m\u001b[38;5;124mxiaomi\u001b[39m\u001b[38;5;124m'\u001b[39m, category\u001b[38;5;241m=\u001b[39m\u001b[38;5;124m'\u001b[39m\u001b[38;5;124mnews\u001b[39m\u001b[38;5;124m'\u001b[39m)[:\u001b[38;5;241m1\u001b[39m])\n",
      "\u001b[0;31mNameError\u001b[0m: name 'index_name' is not defined"
     ]
    }
   ],
   "source": [
    "from light_retrieval_flow.data_ingestion import search_documents, pretty\n",
    "\n",
    "print(index_name)\n",
    "pretty(search_documents(index_config['name'], 'xiaomi', category='news')[:1])"
   ]
  },
  {
   "cell_type": "code",
   "execution_count": null,
   "id": "57fcf031-1b3d-4de3-9c47-6e38ff7052d0",
   "metadata": {},
   "outputs": [],
   "source": []
  }
 ],
 "metadata": {
  "kernelspec": {
   "display_name": "Python 3 (ipykernel)",
   "language": "python",
   "name": "python3"
  },
  "language_info": {
   "codemirror_mode": {
    "name": "ipython",
    "version": 3
   },
   "file_extension": ".py",
   "mimetype": "text/x-python",
   "name": "python",
   "nbconvert_exporter": "python",
   "pygments_lexer": "ipython3",
   "version": "3.11.5"
  }
 },
 "nbformat": 4,
 "nbformat_minor": 5
}
