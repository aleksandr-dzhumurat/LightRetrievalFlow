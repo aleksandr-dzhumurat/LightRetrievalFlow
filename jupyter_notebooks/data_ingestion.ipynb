{
 "cells": [
  {
   "cell_type": "markdown",
   "id": "4fb45eb3-93f2-4b26-aa9d-c58dd1e84fc1",
   "metadata": {},
   "source": [
    "# Data ingestion\n",
    "\n",
    "[ES API](https://zincsearch-docs.zinc.dev/api-es-compatible/search/search/)"
   ]
  },
  {
   "cell_type": "code",
   "execution_count": 1,
   "id": "a7bd661d-bf08-44fa-974e-a6177cf96a30",
   "metadata": {},
   "outputs": [
    {
     "name": "stdout",
     "output_type": "stream",
     "text": [
      "{'mappings': {'properties': {'doc_id': {'type': 'text'}, 'content': {'type': 'text'}, 'category': {'type': 'text'}, 'content_len': {'type': 'integer'}}}}\n"
     ]
    }
   ],
   "source": [
    "import os\n",
    "import yaml\n",
    "from dotenv import load_dotenv\n",
    "\n",
    "%load_ext autoreload\n",
    "%autoreload 2\n",
    "\n",
    "conf_dir = os.environ['CONFIG_DIR']\n",
    "data_dir = os.environ['DATA_DIR']\n",
    "\n",
    "load_dotenv(os.path.join(conf_dir, '.env'))\n",
    "\n",
    "config_path = os.path.join(conf_dir,'data_config.yml')\n",
    "config = {}\n",
    "with open(config_path, \"r\") as f:\n",
    "    config = yaml.load(f, Loader=yaml.FullLoader)\n",
    "index_config = config['elastic_index_settings']\n",
    "print(index_config)\n",
    "            \n",
    "index_name = 'index99'"
   ]
  },
  {
   "cell_type": "code",
   "execution_count": 6,
   "id": "befa759e-32ee-44f1-9313-083c87bb20ea",
   "metadata": {},
   "outputs": [],
   "source": [
    "config['elastic_index_settings'] = {\n",
    "        \"name\": index_name,\n",
    "        \"storage_type\": \"disk\",\n",
    "        \"shard_num\": 1,\n",
    "        \"mappings\": {\n",
    "            \"properties\": {\n",
    "                \"doc_id\": {\n",
    "                    \"type\": \"text\",\n",
    "                    \"index\": True,\n",
    "                    \"store\": True,\n",
    "                    \"highlightable\": True\n",
    "                },\n",
    "                \"content\": {\n",
    "                    \"type\": \"text\",\n",
    "                    \"index\": True,\n",
    "                    \"store\": True,\n",
    "                    \"highlightable\": True\n",
    "                },\n",
    "                \"category\": {\n",
    "                    \"type\": \"keyword\",\n",
    "                    \"index\": True,\n",
    "                    \"sortable\": True,\n",
    "                    \"aggregatable\": True\n",
    "                },\n",
    "                \"content_len\": {\n",
    "                    \"type\": \"integer\",\n",
    "                    \"index\": True,\n",
    "                    \"sortable\": True,\n",
    "                    \"aggregatable\": False\n",
    "                }\n",
    "            }\n",
    "        },\n",
    "        \"settings\": {\n",
    "            \"analysis\": {\n",
    "                \"analyzer\": {\n",
    "                    \"default\": {\n",
    "                        \"type\": \"standard\"\n",
    "                    }\n",
    "                }\n",
    "            }\n",
    "        }\n",
    "    }"
   ]
  },
  {
   "cell_type": "code",
   "execution_count": 7,
   "id": "20b02253-5515-4fcb-a1e0-cef0010ac767",
   "metadata": {},
   "outputs": [],
   "source": [
    "# with open(config_path, \"w\") as f:\n",
    "#     yaml.dump(config, f, default_flow_style=False)"
   ]
  },
  {
   "cell_type": "code",
   "execution_count": 2,
   "id": "cfa770b2-0e05-4367-af08-c7fa6a9c81b7",
   "metadata": {},
   "outputs": [
    {
     "name": "stdout",
     "output_type": "stream",
     "text": [
      "Index 'index99' created successfully.\n"
     ]
    }
   ],
   "source": [
    "from light_retrieval_flow.data_ingestion import create_index\n",
    "\n",
    "create_index(index_name, index_config)"
   ]
  },
  {
   "cell_type": "code",
   "execution_count": 3,
   "id": "2ece9297-f41c-4d8e-b784-8404652fc77b",
   "metadata": {},
   "outputs": [
    {
     "name": "stdout",
     "output_type": "stream",
     "text": [
      "Num entries: 9654\n",
      "Document loaded successfully.\n"
     ]
    }
   ],
   "source": [
    "from light_retrieval_flow.data_ingestion import read_csv_as_dicts, load_bulk_documents\n",
    "\n",
    "csv_data_path = os.path.join(data_dir, 'pipelines_data', 'knowledgebase.csv')\n",
    "index_entries = read_csv_as_dicts(csv_data_path)\n",
    "load_bulk_documents(index_name, index_entries)"
   ]
  },
  {
   "cell_type": "markdown",
   "id": "b4e72480-558f-4b3a-b995-4a203ad6542c",
   "metadata": {},
   "source": [
    "# Data retrieval"
   ]
  },
  {
   "cell_type": "code",
   "execution_count": 5,
   "id": "1f76288d-0013-4b9b-be77-ed8b221bc8ef",
   "metadata": {},
   "outputs": [
    {
     "name": "stdout",
     "output_type": "stream",
     "text": [
      "index99\n"
     ]
    },
    {
     "data": {
      "text/plain": [
       "[{'content': 'After Microsoft signed a deal to test Windows 10 on Xiaomi devices in 2015 and then Xiaomi bought a trove of patents to help run other Microsoft services on its devices in 2016, today the two companies announced another chapter in its collaboration. Xiaomi and Microsoft have signed a Strategic Framework Memorandum of Understanding (MoU) to work more closely in the areas of cloud computing, AI (including Microsoft’s Cortana business) and hardware. To date, Xiaomi has largely focused its mobile phone and wider device strategy in Asia Pacific, where Gartner revealed yesterday that it (and Huawei) were the only two vendors to increase their market shares at a time of general decline. This deal could point to how Xiaomi is looking to raise its game in the West, specifically in the US, especially as it eyes up an IPO that has been reported to potentially value the company at $100 billion. On the side of Microsoft, it’s particularly interesting given that the company has largely pulled back on a lot of its hardware efforts, and has visibly had some major stumbles in this area especially in mobile — most recently with its failure to take on and grow the Nokia mobile business and Windows Mobile. It’s also notable that we’re heading into Mobile World Congress, the mobile confab in Barcelona. We understand neither Xiaomi nor Microsoft are planning any news events this year although both have been more noisy in years past. Understanding that mobile isn’t an area that Microsoft can quite step away from altogether, it seems that the company is going to have one more go now on with a different partner (one that is still on the rise) and a different approach. “Xiaomi is one of the most innovative companies in China, and it is becoming increasingly popular in various markets around the world,” said Harry Shum, EVP of Microsoft’s Artificial Intelligence and Research Group, in a statement. “Microsoft’s unique strengths and experience in AI, as well as our products like Azure, will enable Xiaomi to develop more cutting-edge technology for everyone around the world.” “Microsoft has been a great partner and we are\\xa0delighted to see both companies deepening this relationship with this strategic MoU,” Wang Xiang, Global Senior Vice President and Head of International Business, Xiaomi, added in his statement. “Xiaomi’s mission is to deliver innovation to everyone around the world. By collaborating with Microsoft on multiple technology areas, Xiaomi will accelerate our pace to bring more exciting products and services to our users. At the same time, this partnership would allow Microsoft to reach more users around the world who are using Xiaomi products.” The deal covers four major areas of services for the two companies: Cloud support will include Xiaomi using Microsoft Azure for data storage, bandwidth and computing and other cloud services. Meanwhile, Xiaomi’s efforts in laptops and “laptop-style devices” that run Windows will be co-marketed by Microsoft. Then Microsoft is also going to be talking with Xiaomi on how to improve collaboration on AI-powered speakers using Cortana. It’s not clear if this will involve a refashioning of Xioami’s first smart speaker, the MI AI, which was launched in July 2017 for less than $50 and based on its MIUI forked-Android operating system; or a whole new range of devices. That appears to be just the start for the company’s AI collaborations. They also “intend to explore multiple cooperative projects based on a broad range of Microsoft AI technologies, such as Computer Vision, Speech, Natural Language Processing, Text Input, Conversational AI, Knowledge Graph and Search, as well as related Microsoft AI products and services, such as Bing, Edge, Cortana, XiaoIce, SwiftKey, Translator, Pix, Cognitive Services and Skype,” Microsoft said in a statement. No financial terms to the arrangement are being given at this time, a Microsoft spokesperson said. Updated with further comment from Microsoft. '},\n",
       " {'content': ' Daniel Cooper Contributor  Daniel Cooper is a senior editor at Engadget.  More posts from Daniel Cooper  Virgin Hyperloop lays off 111 staffers as it abandons plans for passenger transport   Internal Facebook documents highlight its moderation and misinformation issues  Xiaomi has today announced the CyberDog, an open-source quadruped robot intended for developers to “build upon” and create applications for. The machine, which resembles a beefier version of Boston Dynamics’ Spot, is a showcase for Xiaomi’s engineering know-how, including its proprietary servo motors. Xiaomi Running the show is a version of NVIDIA’s Jetson Xavier NX, which has been dubbed the world’s smallest AI supercomputer. In terms of being able to experience the world, CyberDog has 11 sensors over its body, including touch and ultrasonic sensors, cameras and GPS to help it “interact with its environment.” Xiaomi says that this technology is good enough to enable CyberDog to follow its owner and navigate around obstacles. It is also capable of identifying posture and tracking human faces, enabling it to pick out and track individuals in a group. Xiaomi Rather than selling this as a general-sale product, the company is for now going to release 1,000 of these things to “Xiaomi fans, engineers and robotics enthusiasts to jointly explore the immense possibility of CyberDog.” This will be facilitated by an open-source community, hosted by Xiaomi, which may be followed by the construction of a robotics laboratory to lay a pathway for “future innovations.” Of course, this thing isn’t cheap, and those folks willing to get involved will need to shell out 9,999 yuan or around $1,540 to get one of these for themselves. Editor’s note: This post first appeared on Engadget. '},\n",
       " {'content': 'Xiaomi today unveiled a new iteration of its virtual assistant Xiao Ai and shared a new feature of Android-based MIUI operating system as the publicly listed Chinese technology group pushes to expand its internet services ecosystem. The company also said that it will be launching ten 5G devices next year. At its annual Mi Developer conference in Beijing, the company said it is integrating an earthquake warning function into MIUI for select users in China, with plans to expand it nationwide soon. The integration, touted as the first of its kind globally, will enable alerts to be sent to smartphones running MIUI 11 and Mi TV “seconds to tens of seconds” before the quake waves arrive, Xiaomi said. The feature, which was first trialed in September this year, has been developed in partnership with Institute of Care-life, a Chengdu-based organization focusing on natural disaster warning. Xiaomi said it has activated the feature for the earthquake-prone Sichuan Province and plans to expand it elsewhere in the nation soon. Wang Tun, head of the institute, said this function, unlike those available through apps in some countries, works more efficiently. There’s no word on when this feature would be rolled out to MIUI users outside of China. Worth mentioning that Apple introduced an earthquake alert feature in iOS for users in Japan in 2011. And in the U.S., the\\xa0Federal Emergency Management Agency tested an emergency warning system last year. Xiao AI 3.0 The company also unveiled Xiao AI voice assistant 3.0, the latest iteration of its digital assistant. The service, used by 49.9 million users each month, now offers a male voice option and supports a naturally continuous dialogue on smartphones. Xiaomi founder and chief executive Lei Jun addressing developers at a company’s conference on Tuesday Xiaomi added that it is launching a new version of MACE, the open-source deep-learning framework that powers Xiao AI. The new MACE-Kit for developers will open its source soon, the company said. “Xiaomi’s AutoML model now leads the industry by dataset performance; and MiNLP, the company’s natural language processing platform, is activated over 6 billion times on a daily basis, making Xiao AI one of the world’s busiest AI platform,” said Cui Baoqiu, VP and Chairman of Xiaomi’s Technical Committee, in a statement. On the sidelines of these announcements, Xiaomi added that it is aiming to serve more partners in the manufacturing industry around the globe through its Finance payments service. The company has invested in over 270 ecosystem partners, among which more than 100 are focused on the development of smart hardware and lifestyle products, it said. Overall, more than 400 business partners in the manufacturing chain today are using Xiaomi Finance, it claimed. At the conference, Lei Jun, founder and chief executive of Xiaomi said the company also plans to market over ten 5G-enabled devices next year as part of its effort “in making 5G + AIoT part of daily life of everyone.” Update: An earlier version of this article said Xiaomi’s earthquake warning system works even without an internet connection. A spokesperson clarified that it’s not the case. The error has been corrected. '},\n",
       " {'content': 'Xiaomi is\\xa0broadening its already expansive range of products by venturing into virtual reality for the first time. The company today announced the Mi VR Play, an “entry-level” virtual reality headset that it\\xa0hopes can open this new exciting medium\\xa0to new audiences because not everyone has thousands of dollars needed to set up an Oculus Rift or HTC Vive. Democratizing technology\\xa0is the thesis behind most of Xiaomi’s\\xa0competitively priced products, including the\\xa0$550/$750 notebook announced last week that will rival Apple’s\\xa0Macbook\\xa0in China. This new device recalls Google’s super-cheap and super-simple Cardboard VR headset. It is fairly basic in nature;\\xa0you pop a smartphone into the lycra-built body\\xa0then open Xiaomi’s\\xa0Mi VR app, which contains VR content from selected partners that include Conde Nast Traveler and YouKu, “China’s YouTube.” Xiaomi pledged to invest $1 billion in video content, including VR, last year, so that library is sure to get bigger over time. Here’s how Xiaomi describes the headset: Mi VR Play has significantly improved upon the design typically used in similar VR products — it\\xa0is wrapped in lightweight, durable Lycra for long-lasting comfort. In the future, Mi VR Play will\\xa0also be available in a selection of bold prints and colours for even more stylish options. The\\xa0unique two-way zipper helps to ensure compatibility, providing a secure grip on a wide range of\\xa04.7- to 5.7-inch smartphones. At the same time, the dual openings on the front allow for slight\\xa0positioning adjustments and ventilation. https://twitter.com/hbarra/status/761151725495476225 Sounds good so far? Here’s the catch — you can’t go and buy one, even if you’re in China. Xiaomi is making it available to a limited number of beta test users, who signed up on August 1 when Xiaomi put out a call for volunteers. One million users signed up in just eight hours, the company said, but Xiaomi has selected just a fraction of those —\\xa0likely “tens of thousands,” a representative\\xa0told TechCrunch. For those lucky ones accepted into the test program, the Mi VR Play will\\xa0cost just\\xa0RMB 1 ($0.15). Xiaomi\\xa0told us that it has plans to make the headset more widely available in the future, but there’s no schedule for that right now. Along those lines, it isn’t clear how much the headset will cost once it is on sale to all. We suspect it won’t be RMB 1, sadly. '},\n",
       " {'content': 'Long gone are the days when a consumer electronics company could simply announce a phone and call it a day. At this morning’s big launch event in Beijing, Xiaomi followed up its foldable news by handing the stage over to CyberOne. The bipedal humanoid robot joined Lei Jun onstage, greeting the CEO and handing him a long-stem flower. At first glance, the robot isn’t exactly Atlas or Digit, in terms of locomotion, but it’s still a promising demo and very much not a person in a spandex suit (not that anyone would do that). It’s the latest sign of Xiaomi’s growing robotics ambitions, which began with vacuums and have since expanded to include last year’s Spot-esque CyberDog. Image Credits: Xiaomi We’ve seen plenty of consumer brands flex some robotic muscle at events like this, including Samsung and LG, so it’s tough to know where CyberOne falls in the spectrum between serious pursuit and stage spectacle. I was both nervous and thrilled to interact with him on stage. What did you think of his performance tonight? #CyberOne pic.twitter.com/Je1eXDYEGR — Lei Jun (@leijun) August 11, 2022 Lei Jun was quick to flex the company’s investment in the category, noting, “CyberOne’s AI and mechanical capabilities are all self-developed by Xiaomi Robotics Lab. We have invested heavily in R&D spanning various areas, including software, hardware and algorithms innovation.” There’s an extremely broad range of claims here, including the ability to read human emotions. Xiaomi notes: Humanoid robots rely on vision to process their surroundings. Equipped with a self-developed Mi-Sense depth vision module and combined with an AI interaction algorithm, CyberOne is capable of perceiving 3D space, as well as recognizing individuals, gestures, and expressions, allowing it to not only see but to process its environment. In order to communicate with the world, CyberOne is equipped with a self-developed MiAI environment semantics recognition engine and a MiAI vocal emotion identification engine, enabling it to recognize 85 types of environmental sounds and 45 classifications of human emotion. CyberOne is able to detect happiness, and even comfort the user in times of sadness. All of these features are integrated into CyberOne’s processing units, which are paired with a curved OLED module to display real-time interactive information. Image Credits: Xiaomi Equally broad are the promised real-world applications, ranging from manufacturing assistance to human companionship. There will be plenty of use for both of these feature sets in the future, but that’s a long walk (so to speak) from today’s demo. For the time being, it probably makes the most sense to view CyberOne as something of an analog to, say, Honda’s Asimo: a promising experiment that’s serves as a good brand ambassador for some of the work being done behind the scenes. '},\n",
       " {'content': 'Hugo Barra, who previously held a positions as a key VP for Android at Google, and led Xiaomi’s international efforts in a VP role at the Chinese company, is now joining Facebook. Barra announced his departure from Xiaomi on January 22, after a three-and-a-half year stint at the company. Barra will lead all of Facebook’s VR efforts, including Oculus, according to Facebook CEO Mark Zuckerberg, who shared the news on his FB profile. Barra fills a gap left behind when Oculus CEO Brendan Iribe stepped down from the top stop at the Facebook-owned virtual reality company, moving instead into a role leading Oculus’ PC-focused VR efforts. In his announcement of the news, Zuckerberg noted that he’s known Barra since the ex-Android exec helped develop the world-leading mobile OS, and that Barra believes, along with Zuckberberg himself, that VR and AR are going to be the next big computing platform after mobile. Facebook will spend over $3 billion over the next decade to help spread VR to the masses, Zuckerberg revealed in testimony in an ongoing lawsuit against Oculus by ZeniMax, the former employer of Oculus CTO John Carmack. Barra helped Xiaomi introduce\\xa0its own Mi VR headset, and speaking to Bloomberg last year, he had plenty of praise for Google’s Daydream VR platform. He also talked about it as a tech that will likely come to fruition more in 2017, which makes it apt that he’s joining Facebook this year to help that company further its VR efforts. Joining Facebook as VP of virtual reality (VPVR!) to lead Team @Oculus. So excited! Mark posted about it here: https://t.co/kYgIniSQiM pic.twitter.com/7fYTkniykr — Hugo Barra (@hbarra) January 26, 2017 When he posted about his departure from Xiaomi, Barra noted that he was going to be headed back to Silicon Valley, and it looks like he’ll be very close to his old stomping grounds indeed. Barra himself added that he “can’t wait to get started” in the\\xa0new role: “It’s been a dream of mine to work in virtual reality even back when AR/VR were just figments of science fiction; now we’re taking selfies in virtual worlds :) I learned from Xiaomi CEO Lei Jun that there’s no greater calling in our industry than taking breakthrough tech and making it available to the greatest number of people,” he said. Ibe himself even\\xa0got in on the comments. “I’m thrilled to join forces and look forward to learning from you Hugo. The best team in the world just got even better!” he said. '},\n",
       " {'content': 'When someone mentioned to me that Xiaomi was launching its own “robot dog,” my mind immediately went to Sony’s Aibo. And honestly, it would have been difficult to be more wrong. Now that the news has been out for a few days, the company’s heard all of your bad Black Mirror jokes, don’t worry. And, honestly, the Chinese hardware maker didn’t do itself any favors with the design here. Boston Dynamics has done a lot to imbue its quadrupedal robots with personality, through design language and viral videos of Spot and company busting a move to the Dirty Dancing soundtrack. With Cyberdog, however, Xiaomi’s design team clearly just leaned in and went full-on Robocop (and the Bladerunner pastiche doesn’t help) . I receive a deluge of Metalhead gifs every time I post something about Boston Dynamics — seriously, I’m using Cyberdog as the lead image on this post, just so you can see what I mean. Go check the replies on Twitter. I’ll wait. Image Credits: Xiaomi Xiaomi is, of course, far from the first company to release a Spot-like quadrupedal robot. There are a number of companies competing in that space, including ANYmal and Ghost Robotics. For its part, Xiaomi is looking to put a developer spin on the category. Per the Mi blog: CyberDog is Xiaomi’s first foray into quadruped robotics for the open source community and developers worldwide. Robotics enthusiasts interested in CyberDog can compete or co-create with other like-minded Xiaomi Fans, together propelling the development and potential of quadruped robots. Image Credits: Xiaomi The robot is powered by Nvidia’s Jetson Xavier NX platform, coupled with 11-built in sensors, including cameras, touch, GPS and more. The company will be release 1,000 of the robots, price at roughly $1,540 — a fraction of the cost of the advanced Spot system. The robot is also a fraction of the size of Boston Dynamics’ quadruped. And while there are superficial similarities the project really couldn’t be more different. Xiaomi’s entry into robotics is more about building hardware for Nvidia’s platform. It’s a (relatively) inexpensive way for people to get a hang of programming and, perhaps, protoyping robotics. The likely limited functionality — and availability — are pretty clear indications that that the company’s not trying to put a Cyberdog in every home just yet. Bear Flag Robotics A sizable acquisition this week, John Deere announced plans to buy Bear Flag Robotics for $250 million. We’ve been following Bear Flag since it was a member of the YC cohort. The deal seems like a good outcome for both parties. Bear Flag gets a lot of resources from an agricultural giant like John Deere and Deere gets to step another foot into the world of cutting-edge tech with an autonomous tractor startup. Says co-founder and CEO Igino Cafiero: One of the biggest challenges farmers face today is the availability of skilled labor to execute time-sensitive operations that impact farming outcomes. Autonomy offers a safe and productive alternative to address that challenge head on. Bear Flag’s mission to increase global food production and reduce the cost of growing food through machine automation is aligned with Deere’s and we’re excited to join the Deere team to bring autonomy to more farms. John Deere buys autonomous tractor startup Bear Flag Robotics Image Credits: Kiwibot Another startup we’ve been following since its early days, Kiwibot is seeing expansion to a significant number of campuses. In spite of campus shutdowns last year, the Berkeley-based company is actually seeing something of a boom due to the pandemic. COO Diego Varela Prada tells TechCrunch: We have a procedure to disinfect the bots between orders. If you’re a student and you don’t want to mix into large crowds, I think it’s much safer to order food through Kiwibot and have it delivered to the library or your dorm. Kiwibot partners with hospitality giant Sodexo to bring food delivery robots to more college campuses We’ve written about Lidar company Aeva a few times over the years, including last November, when it announced plans to go public via SPAC. This week, the company announced a deal with Nikon that takes it beyond its existing automotive applications. The company says there are a slew of potential applications, though the chip is still about four years away from production. Fields include, “consumer electronics, consumer health, industrial robotics, and security.” A whole bunch of robots are making their way to Florida late next year, courtesy of Amazon. The company announced this week that it has chosen Tallahassee (birthplace of T-Pain and objectively the best Mountain Goats album) as the home of its next fulfillment center. The company plans to add to its massive arm of warehouse robots for the 630,000-square-foot space, along with 1,000 human jobs. Image Credits: Berkshire Grey FedEx, meanwhile, has implemented Berkshire Grey robotics at a shipping facility in Queens (the best borough). The systems will identity, pick, sort, collected and containerize primarily small packages like polybags, tubes and padded mailers. The systems are set to roll out to additional locations, including Las Vegas and Columbus, Ohio. Says B.G., This technology has been developed and installed as a direct response to the exponential growth of e-commerce, which has accelerated the demand for reliable automated solutions throughout all stages of the supply chain. FedEx Ground believes that continued innovation and automation will improve safety, efficiency, and productivity for its team members as they continue to keep the e-commerce supply chain moving. Image Credits: Hyphen Here’s a new company in the food space worth keeping an eye on. Formerly known as Ono Food Co. (then a food truck company), SF-based Hyphen has come out of stealth with the announcement of its Makeline automated meal platform. The company says the system is able to create up to 350 meals an hour, with the aid of a single staff member. “[W]e really see ourselves like Shopify,” CEO Stephen Klein said in a release, “but instead of enabling merchants to compete with the likes of Amazon, we’re enabling restaurants to compete with the likes of DoorDash as well as other services and ghost kitchens that have decided to compete with their own customers by offering their own food brands.” The platform is set to start rolling out this winter with plans for 300 locations in New York City, San Francisco, Los Angeles, Seattle and Phoenix. '},\n",
       " {'content': 'A former Magic Leap engineer believes the problem with most consumer-facing augmented headsets on the market is their bulky size. “You wouldn’t want to wear them for more than one hour,” Xu Chi, founder and\\xa0chief executive officer of Nreal told me as he put on a bright orange headgear that looked just like plastic Ray-Ban shades. Called Light and powered by Qualcomm’s Snapdragon processor, Nreal’s first-generation mixed reality glasses officially launched at Las Vegas’ tech trade show CES this week. With a lightweight play, the two-year-old Chinese startup managed to bring in some big-name investors. Aside from debuting Light, Nreal also announced this week that it has raised $15 million in total funding to date. The proceeds include a Series A from Shunwei, the venture fund that Xiaomi’s founder set up, Baidu’s video streaming unit iQiyi, investment firm China Growth Capital and others.\\xa0According to Xu, R&D is his company’s biggest expense at this stage. Magic Leap and other AR startups have a rough 2019 ahead of them The financial injection bears strategic significance to Xiaomi and iQIYI. The former is best known for its budget smartphones, but its bigger ambition lies in an Apple Home-like ecosystem that surely welcomes portable MR headsets. IQiyi, on the other hand, already has a channel dedicated to virtual reality, which is meant to immerse the end user in a completely digital environment. MR content may just be around the corner to provide an interactive experience of the real world. Taking money from Shunwei rather than straight from Xiaomi is a thought-through choice. Xiaomi has backed hundreds of manufacturers to gain control over supply chains. Its portfolio companies, in turn, get access to Xiaomi’s retail channels, but they make comprises on various fronts, such\\xa0as product design and pricing. Founder and CEO Xu Chi holding Nreal Light’s\\xa0glasses and chipset. Photo: Nreal Xu doesn’t want his freshly minted business to lose independence. “We don’t want to pick sides. We want to be able to work with Oppo and a whole lot of other brands. We want to be compatible with a wide range of devices — smartphones, laptops, PCs, and so on,” said the founder. In early 2017, the Chinese entrepreneur started Nreal with his co-founder Xiao Bing, an optical engineer. The brand “Nreal” conveys the partners’ vision to bring users to spaces that fall between the real and unreal. Xu, who spent years working and studying in the U.S., decided to pursue his ideas back in his homeland for easier access to supply chains. “We are combining our technological know-how from overseas with great resources in China’s manufacturing industry,” the founder said of his firm’s edge. The 85-gram (about 3-ounce) Nreal Light isn’t as featherweight as regular glasses, but it’s a significant improvement from the biggies it’s going after — Magic Leap One and Microsoft’s HoloLens. Nreal was able to shrink its gadget size because it uses a display solution that requires fewer cameras and sensors than its peers, Xu explained. Furthermore, Nreal\\xa0is fixated on the consumer market from the outset, unlike its bigger rivals which, in Xu’s words, are “building gadgets for the next five or even 10 years.” “They want to disrupt\\xa0everything from cell phones, computers to televisions. They are not necessarily oriented towards consumers,” Xu added. The smart glasses come in a variety of colors. Photo: Nreal When it comes to performance, Light claims its display has a 52-degree field of view and a 1080p resolution, which my human eyes weren’t able to verify when I wore it to play an interactive shooting game. That said, I did experience minimum dizziness and latency on Light, as\\xa0the company promised. The only irritating part was I started to feel the weight of the specs on my nose bridge a few minutes into my session. Xu assured me that what I tried on was a prototype and that an assortment of nose pads and lenses for different facial features will be available. The glasses also come in a variety of flashy coral colors. Nreal Light won’t be shipping until Q2 this year and mass production won’t arrive until Q3. Xu hasn’t priced his brainchild, but said it will probably hover around $1,000. By comparison, HoloLens charges $3,000 and Magic Leap One costs $2,300. Where\\xa0does that price tag leave Nreal in terms of profitability? It’s a matter of what kind of consumer hardware Nreal wants to become. “Do we want to be Apple or Xiaomi?” The founder asked himself rhetorically. He’s sure of one thing: As the MR industry matures in China, production costs will also come down. The company is already mulling its own factory so as to beef up supply chains and reduce costs, according to Xu. '},\n",
       " {'content': 'The promise of STEAM robots, which are billed to increase children’s interest in science, technology, engineering, arts and mathematics (STEAM), has been around for years. The market is teeming with products from hardcore robotics scientists and their copycats. Many have faded away, but investor interest hasn’t died down, at least for one company coming from China. Keyi Technology, which is known for its modular, cycloptic robot ClicBot, just raised “tens of millions of dollars” in a new funding round. Powered by Blockly, Google’s visual drag-and-drop programming language, ClicBot claims it can be designed in thousands of different ways. The lead investor of the funding round was Anker, the China- and U.S.-based battery pack and charging giant with a current market cap of 27 billion yuan ($4 billion). Other investors included Xiaomi, Xiaomi founder Lei Jun’s Shunwei Capital and BlueRun Ventures China, the Silicon Valley early-stage investor that entered China in the 2000s. When asked about details of its investment portfolio, Anker declined to comment. It also didn’t answer a question about potential collaborations between Keyi and itself. Keyi’s new funding comes at a time when inflation in the U.S. and Europe is hitting consumers’ appetite for tech devices and other goods. But Keyi, which derives 60% of its revenues from outside of China, sees “significant growth” in the global smart toys market thanks to the COVID-19 pandemic, which prompted millions of children to learn from home. And like its peers, Keyi is enjoying a growing demand for its educational robots. Image Credits: Keyi’s programmable robot ClicBot The company shipped more than 10,000 parcels of ClicBot last year, growing over 300% year-over-year, though it hasn’t turned profitable, its marketing chief Chen Peng tells TechCrunch. It’s expected to launch a new product in September. The pandemic also brings challenges to Keyi as COVID lockdowns and a rebound in global trade put the global shipping system under stress. “Inflation and COVID-19 have definitely had some impact on our shipping rates and there is no doubt that we are facing the risk of a decrease in profit margin — especially because we are an international e-commerce company,” Peng tells TechCrunch. In the meantime, export-oriented Chinese consumer startups like Keyi are coping with the consequences of Apple’s privacy policy change. “Re-target marketing becomes limited as now we are unable to obtain data from iOS users” and “the attribution analysis model becomes ineffective as well,” Peng admits. The company’s strategy is to place more resources into content marketing, which “has always been seen as an important way for us to let more people get to know ClicBot and an incentive for us to develop a better product,” says the executive. Is ClicBot a spiritual successor to Cozmo? (Mostly no, but maybe a little yes) '},\n",
       " {'content': 'Google has adopted a novel way to do business in China, where its online services continue to be censored, after it partnered directly with three OEMs to bring its augmented reality service to the country. ARCore, the company’s\\xa0augmented reality SDK for Android, launched in full today following its announcement in November. Google says there are 100 million devices that support ARCore right now in the market. That was always its target and\\xa0that was broadly assumed not to include China, like most Google services due to the censorship, but Xiaomi, Huawei and Samsung have all signed on to release devices that will include ARCore support over the coming months. Including hardware support is easily done — these devices will all be ‘higher-end’ smartphones — but the software side is trickier since the Google Play Store is not available on Chinese soil and the third-party app store is fragmented. For that component, Xiaomi, Huawei and Samsung will release\\xa0ARCore apps through their own app stores. ARCore itself works on device, without the cloud, which means that once apps are downloaded to a phone there’s nothing that China’s internet censors can do to disrupt them. Partnership with OEMs in this way is a first for Google. It builds on the company’s release of a “China-proofed” version of its Google Translate app last year, which was offered via a number of third-party Android stores and a direct download. More broadly, while this ARCore-China move may not seem huge, it’s a significant step which shows that Google finally appears to have an actual strategy for China beyond ad hoc activities as it was in the past. In past months, we’ve seen Google agree to a partnership with Tencent, invest in China-based startups — biotech-focused\\xa0XtalPi and live-streaming service Chushou\\xa0— and announce an AI lab in Beijing. Added to that, Google gained a large tech presence in Taiwan\\xa0via the completion of its acquisition of a chunk of HTC, and it opened a presence in Shenzhen, the Chinese city known as ‘the Silicon Valley of hardware.’ TechCrunch understands that the China ARCore strategy isn’t focused on monetizing the service at this point. Instead, Google aims to open the service up to Chinese developers to allow them to create apps on the platform that could be used anywhere in the world. Likewise, it may help raise its brand among consumers if ARCore apps take off and provide an entertaining experience. There’s no reason Chinese users shouldn’t be able to enjoy that like anyone else in the world. That focus on utilizing up Chinese talent leads back to the planned opening of an AI Lab in Beijing. Google appears to be seeking ways to tap into the developer community and skills in China without having to take big steps like relaunch the Play Store, something that has long been speculated but would be difficult to actually pull off. Working with OEMs to distribute apps is a far more nimble and efficient approach, and it’ll be interesting to see if Google repeats this strategy in China. '}]"
      ]
     },
     "execution_count": 5,
     "metadata": {},
     "output_type": "execute_result"
    }
   ],
   "source": [
    "from light_retrieval_flow.data_ingestion import search_documents, pretty\n",
    "\n",
    "print(index_name)\n",
    "pretty(search_documents(index_name, 'xiaomi', category='news'))"
   ]
  },
  {
   "cell_type": "code",
   "execution_count": null,
   "id": "57fcf031-1b3d-4de3-9c47-6e38ff7052d0",
   "metadata": {},
   "outputs": [],
   "source": []
  }
 ],
 "metadata": {
  "kernelspec": {
   "display_name": "Python 3 (ipykernel)",
   "language": "python",
   "name": "python3"
  },
  "language_info": {
   "codemirror_mode": {
    "name": "ipython",
    "version": 3
   },
   "file_extension": ".py",
   "mimetype": "text/x-python",
   "name": "python",
   "nbconvert_exporter": "python",
   "pygments_lexer": "ipython3",
   "version": "3.11.5"
  }
 },
 "nbformat": 4,
 "nbformat_minor": 5
}
